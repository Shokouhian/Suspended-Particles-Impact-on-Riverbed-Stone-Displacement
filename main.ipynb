{
  "cells": [
    {
      "cell_type": "code",
      "execution_count": null,
      "source": [
        "pip install -r requirements.txt"
      ],
      "outputs": [
        {
          "output_type": "stream",
          "name": "stdout",
          "text": [
            "Requirement already satisfied: matplotlib in /usr/local/lib/python3.7/dist-packages (from -r requirements.txt (line 1)) (3.2.2)\n",
            "Requirement already satisfied: sklearn in /usr/local/lib/python3.7/dist-packages (from -r requirements.txt (line 2)) (0.0)\n",
            "Requirement already satisfied: pandas in /usr/local/lib/python3.7/dist-packages (from -r requirements.txt (line 3)) (1.3.5)\n",
            "Requirement already satisfied: keras in /usr/local/lib/python3.7/dist-packages (from -r requirements.txt (line 4)) (2.7.0)\n",
            "Requirement already satisfied: tensorflow in /usr/local/lib/python3.7/dist-packages (from -r requirements.txt (line 5)) (2.7.0)\n",
            "Collecting python-bidi\n",
            "  Downloading python_bidi-0.4.2-py2.py3-none-any.whl (30 kB)\n",
            "Collecting arabic_reshaper\n",
            "  Downloading arabic_reshaper-2.1.3-py3-none-any.whl (20 kB)\n",
            "Requirement already satisfied: seaborn in /usr/local/lib/python3.7/dist-packages (from -r requirements.txt (line 8)) (0.11.2)\n",
            "Requirement already satisfied: cycler>=0.10 in /usr/local/lib/python3.7/dist-packages (from matplotlib->-r requirements.txt (line 1)) (0.11.0)\n",
            "Requirement already satisfied: pyparsing!=2.0.4,!=2.1.2,!=2.1.6,>=2.0.1 in /usr/local/lib/python3.7/dist-packages (from matplotlib->-r requirements.txt (line 1)) (3.0.7)\n",
            "Requirement already satisfied: numpy>=1.11 in /usr/local/lib/python3.7/dist-packages (from matplotlib->-r requirements.txt (line 1)) (1.19.5)\n",
            "Requirement already satisfied: kiwisolver>=1.0.1 in /usr/local/lib/python3.7/dist-packages (from matplotlib->-r requirements.txt (line 1)) (1.3.2)\n",
            "Requirement already satisfied: python-dateutil>=2.1 in /usr/local/lib/python3.7/dist-packages (from matplotlib->-r requirements.txt (line 1)) (2.8.2)\n",
            "Requirement already satisfied: six>=1.5 in /usr/local/lib/python3.7/dist-packages (from python-dateutil>=2.1->matplotlib->-r requirements.txt (line 1)) (1.15.0)\n",
            "Requirement already satisfied: scikit-learn in /usr/local/lib/python3.7/dist-packages (from sklearn->-r requirements.txt (line 2)) (1.0.2)\n",
            "Requirement already satisfied: pytz>=2017.3 in /usr/local/lib/python3.7/dist-packages (from pandas->-r requirements.txt (line 3)) (2018.9)\n",
            "Requirement already satisfied: tensorflow-estimator<2.8,~=2.7.0rc0 in /usr/local/lib/python3.7/dist-packages (from tensorflow->-r requirements.txt (line 5)) (2.7.0)\n",
            "Requirement already satisfied: wrapt>=1.11.0 in /usr/local/lib/python3.7/dist-packages (from tensorflow->-r requirements.txt (line 5)) (1.13.3)\n",
            "Requirement already satisfied: libclang>=9.0.1 in /usr/local/lib/python3.7/dist-packages (from tensorflow->-r requirements.txt (line 5)) (13.0.0)\n",
            "Requirement already satisfied: protobuf>=3.9.2 in /usr/local/lib/python3.7/dist-packages (from tensorflow->-r requirements.txt (line 5)) (3.17.3)\n",
            "Requirement already satisfied: gast<0.5.0,>=0.2.1 in /usr/local/lib/python3.7/dist-packages (from tensorflow->-r requirements.txt (line 5)) (0.4.0)\n",
            "Requirement already satisfied: typing-extensions>=3.6.6 in /usr/local/lib/python3.7/dist-packages (from tensorflow->-r requirements.txt (line 5)) (3.10.0.2)\n",
            "Requirement already satisfied: keras-preprocessing>=1.1.1 in /usr/local/lib/python3.7/dist-packages (from tensorflow->-r requirements.txt (line 5)) (1.1.2)\n",
            "Requirement already satisfied: wheel<1.0,>=0.32.0 in /usr/local/lib/python3.7/dist-packages (from tensorflow->-r requirements.txt (line 5)) (0.37.1)\n",
            "Requirement already satisfied: flatbuffers<3.0,>=1.12 in /usr/local/lib/python3.7/dist-packages (from tensorflow->-r requirements.txt (line 5)) (2.0)\n",
            "Requirement already satisfied: tensorflow-io-gcs-filesystem>=0.21.0 in /usr/local/lib/python3.7/dist-packages (from tensorflow->-r requirements.txt (line 5)) (0.23.1)\n",
            "Requirement already satisfied: grpcio<2.0,>=1.24.3 in /usr/local/lib/python3.7/dist-packages (from tensorflow->-r requirements.txt (line 5)) (1.43.0)\n",
            "Requirement already satisfied: tensorboard~=2.6 in /usr/local/lib/python3.7/dist-packages (from tensorflow->-r requirements.txt (line 5)) (2.7.0)\n",
            "Requirement already satisfied: h5py>=2.9.0 in /usr/local/lib/python3.7/dist-packages (from tensorflow->-r requirements.txt (line 5)) (3.1.0)\n",
            "Requirement already satisfied: absl-py>=0.4.0 in /usr/local/lib/python3.7/dist-packages (from tensorflow->-r requirements.txt (line 5)) (1.0.0)\n",
            "Requirement already satisfied: termcolor>=1.1.0 in /usr/local/lib/python3.7/dist-packages (from tensorflow->-r requirements.txt (line 5)) (1.1.0)\n",
            "Requirement already satisfied: astunparse>=1.6.0 in /usr/local/lib/python3.7/dist-packages (from tensorflow->-r requirements.txt (line 5)) (1.6.3)\n",
            "Requirement already satisfied: google-pasta>=0.1.1 in /usr/local/lib/python3.7/dist-packages (from tensorflow->-r requirements.txt (line 5)) (0.2.0)\n",
            "Requirement already satisfied: opt-einsum>=2.3.2 in /usr/local/lib/python3.7/dist-packages (from tensorflow->-r requirements.txt (line 5)) (3.3.0)\n",
            "Requirement already satisfied: cached-property in /usr/local/lib/python3.7/dist-packages (from h5py>=2.9.0->tensorflow->-r requirements.txt (line 5)) (1.5.2)\n",
            "Requirement already satisfied: tensorboard-data-server<0.7.0,>=0.6.0 in /usr/local/lib/python3.7/dist-packages (from tensorboard~=2.6->tensorflow->-r requirements.txt (line 5)) (0.6.1)\n",
            "Requirement already satisfied: setuptools>=41.0.0 in /usr/local/lib/python3.7/dist-packages (from tensorboard~=2.6->tensorflow->-r requirements.txt (line 5)) (57.4.0)\n",
            "Requirement already satisfied: werkzeug>=0.11.15 in /usr/local/lib/python3.7/dist-packages (from tensorboard~=2.6->tensorflow->-r requirements.txt (line 5)) (1.0.1)\n",
            "Requirement already satisfied: markdown>=2.6.8 in /usr/local/lib/python3.7/dist-packages (from tensorboard~=2.6->tensorflow->-r requirements.txt (line 5)) (3.3.6)\n",
            "Requirement already satisfied: tensorboard-plugin-wit>=1.6.0 in /usr/local/lib/python3.7/dist-packages (from tensorboard~=2.6->tensorflow->-r requirements.txt (line 5)) (1.8.1)\n",
            "Requirement already satisfied: requests<3,>=2.21.0 in /usr/local/lib/python3.7/dist-packages (from tensorboard~=2.6->tensorflow->-r requirements.txt (line 5)) (2.23.0)\n",
            "Requirement already satisfied: google-auth-oauthlib<0.5,>=0.4.1 in /usr/local/lib/python3.7/dist-packages (from tensorboard~=2.6->tensorflow->-r requirements.txt (line 5)) (0.4.6)\n",
            "Requirement already satisfied: google-auth<3,>=1.6.3 in /usr/local/lib/python3.7/dist-packages (from tensorboard~=2.6->tensorflow->-r requirements.txt (line 5)) (1.35.0)\n",
            "Requirement already satisfied: cachetools<5.0,>=2.0.0 in /usr/local/lib/python3.7/dist-packages (from google-auth<3,>=1.6.3->tensorboard~=2.6->tensorflow->-r requirements.txt (line 5)) (4.2.4)\n",
            "Requirement already satisfied: rsa<5,>=3.1.4 in /usr/local/lib/python3.7/dist-packages (from google-auth<3,>=1.6.3->tensorboard~=2.6->tensorflow->-r requirements.txt (line 5)) (4.8)\n",
            "Requirement already satisfied: pyasn1-modules>=0.2.1 in /usr/local/lib/python3.7/dist-packages (from google-auth<3,>=1.6.3->tensorboard~=2.6->tensorflow->-r requirements.txt (line 5)) (0.2.8)\n",
            "Requirement already satisfied: requests-oauthlib>=0.7.0 in /usr/local/lib/python3.7/dist-packages (from google-auth-oauthlib<0.5,>=0.4.1->tensorboard~=2.6->tensorflow->-r requirements.txt (line 5)) (1.3.1)\n",
            "Requirement already satisfied: importlib-metadata>=4.4 in /usr/local/lib/python3.7/dist-packages (from markdown>=2.6.8->tensorboard~=2.6->tensorflow->-r requirements.txt (line 5)) (4.10.1)\n",
            "Requirement already satisfied: zipp>=0.5 in /usr/local/lib/python3.7/dist-packages (from importlib-metadata>=4.4->markdown>=2.6.8->tensorboard~=2.6->tensorflow->-r requirements.txt (line 5)) (3.7.0)\n",
            "Requirement already satisfied: pyasn1<0.5.0,>=0.4.6 in /usr/local/lib/python3.7/dist-packages (from pyasn1-modules>=0.2.1->google-auth<3,>=1.6.3->tensorboard~=2.6->tensorflow->-r requirements.txt (line 5)) (0.4.8)\n",
            "Requirement already satisfied: certifi>=2017.4.17 in /usr/local/lib/python3.7/dist-packages (from requests<3,>=2.21.0->tensorboard~=2.6->tensorflow->-r requirements.txt (line 5)) (2021.10.8)\n",
            "Requirement already satisfied: urllib3!=1.25.0,!=1.25.1,<1.26,>=1.21.1 in /usr/local/lib/python3.7/dist-packages (from requests<3,>=2.21.0->tensorboard~=2.6->tensorflow->-r requirements.txt (line 5)) (1.24.3)\n",
            "Requirement already satisfied: idna<3,>=2.5 in /usr/local/lib/python3.7/dist-packages (from requests<3,>=2.21.0->tensorboard~=2.6->tensorflow->-r requirements.txt (line 5)) (2.10)\n",
            "Requirement already satisfied: chardet<4,>=3.0.2 in /usr/local/lib/python3.7/dist-packages (from requests<3,>=2.21.0->tensorboard~=2.6->tensorflow->-r requirements.txt (line 5)) (3.0.4)\n",
            "Requirement already satisfied: oauthlib>=3.0.0 in /usr/local/lib/python3.7/dist-packages (from requests-oauthlib>=0.7.0->google-auth-oauthlib<0.5,>=0.4.1->tensorboard~=2.6->tensorflow->-r requirements.txt (line 5)) (3.2.0)\n",
            "Requirement already satisfied: future in /usr/local/lib/python3.7/dist-packages (from arabic_reshaper->-r requirements.txt (line 7)) (0.16.0)\n",
            "Requirement already satisfied: scipy>=1.0 in /usr/local/lib/python3.7/dist-packages (from seaborn->-r requirements.txt (line 8)) (1.4.1)\n",
            "Requirement already satisfied: joblib>=0.11 in /usr/local/lib/python3.7/dist-packages (from scikit-learn->sklearn->-r requirements.txt (line 2)) (1.1.0)\n",
            "Requirement already satisfied: threadpoolctl>=2.0.0 in /usr/local/lib/python3.7/dist-packages (from scikit-learn->sklearn->-r requirements.txt (line 2)) (3.1.0)\n",
            "Installing collected packages: python-bidi, arabic-reshaper\n",
            "Successfully installed arabic-reshaper-2.1.3 python-bidi-0.4.2\n"
          ]
        }
      ],
      "metadata": {
        "colab": {
          "base_uri": "https://localhost:8080/"
        },
        "id": "a-0_RvPAL6pj",
        "outputId": "4b7aadf6-6ae7-43d5-f2e7-f739ed5c8383"
      }
    },
    {
      "cell_type": "markdown",
      "source": [
        "بخش اول : فراخوانی کتابخانه های مورد نیاز"
      ],
      "metadata": {
        "id": "PJBQ6vrbL6pr"
      }
    },
    {
      "cell_type": "code",
      "execution_count": null,
      "source": [
        "# Import required libraries\n",
        "import pandas as pd\n",
        "import numpy as np\n",
        "import matplotlib.pyplot as plt\n",
        "\n",
        "import arabic_reshaper #برای نوشتار فارسی در نمودار ها\n",
        "from bidi.algorithm import get_display #برای نوشتار فارسی در نمودار ها\n",
        "\n",
        "# Import necessary modules\n",
        "from sklearn.model_selection import train_test_split\n",
        "\n",
        "\n",
        "\n",
        "# Keras specific\n",
        "\n",
        "from keras.layers import Dense\n",
        "import seaborn as sns\n",
        "sns.set_theme()\n",
        "\n",
        "\n",
        "\n",
        "\n"
      ],
      "outputs": [],
      "metadata": {
        "id": "f_4yhxAKL6pw"
      }
    },
    {
      "cell_type": "markdown",
      "source": [
        "بخش دوم : خواندن فایل های داده های آموزش"
      ],
      "metadata": {
        "id": "yTjqaCeiL6py"
      }
    },
    {
      "cell_type": "code",
      "execution_count": null,
      "source": [
        "ClearWater_dataframe = pd.read_csv(\"ClearWater.csv\")\n",
        "MuddyWater_dataframe = pd.read_csv(\"MuddyWater.csv\")"
      ],
      "outputs": [],
      "metadata": {
        "id": "3SPz1c_8L6pz"
      }
    },
    {
      "cell_type": "markdown",
      "source": [
        "بخش سوم : آماده سازی دیتا فریم ها(آرایه چند بعدی از داده ها)\n",
        "برای پردازش"
      ],
      "metadata": {
        "id": "lgorZLUoL6pz"
      }
    },
    {
      "cell_type": "code",
      "execution_count": null,
      "source": [
        "#تعیین کردن نام هر ستون بر اساس ردیف اول\n",
        "ClearWater_dataframe.head()\n",
        "MuddyWater_dataframe.head()\n",
        "\n",
        "#ما فقط ستون هایی که باآنها کار خواهیم کرد را نگه میداریم\n",
        "\n",
        "ClearWater_dataframe_needed = ClearWater_dataframe[['v(mls)','d(m)','Q','Ds(m)']].sort_values(by=['Ds(m)'])\n",
        "MuddyWater_dataframe_needed = MuddyWater_dataframe[['v(mls)','d(m)','Q','Ds(m)','cw']].sort_values(by=['Ds(m)'])\n",
        "\n",
        "\n"
      ],
      "outputs": [],
      "metadata": {
        "id": "5lIZoMFWL6p0"
      }
    },
    {
      "cell_type": "markdown",
      "source": [
        "بزرگنمایی داده ها و استاندارد سازی"
      ],
      "metadata": {
        "id": "9AblxT-aL6p1"
      }
    },
    {
      "cell_type": "code",
      "execution_count": null,
      "source": [
        "\n",
        "\n",
        "\n",
        "print(\"داده ها برای آب زلال:\")\n",
        "print(ClearWater_dataframe_needed)\n",
        "\n",
        "print(\"داده ها برای آب گل آلود:\")\n",
        "print(MuddyWater_dataframe_needed)"
      ],
      "outputs": [
        {
          "output_type": "stream",
          "name": "stdout",
          "text": [
            "داده ها برای آب زلال:\n",
            "   v(mls)   d(m)       Q   Ds(m)\n",
            "2    0.40  0.020  0.0024  0.0020\n",
            "1    0.52  0.030  0.0047  0.0040\n",
            "0    0.65  0.037  0.0072  0.0075\n",
            "3    0.70  0.038  0.0080  0.0100\n",
            "4    0.78  0.040  0.0094  0.0150\n",
            "داده ها برای آب گل آلود:\n",
            "   v(mls)   d(m)        Q   Ds(m)    cw\n",
            "2    0.32  0.025  0.00240  0.0020  33.3\n",
            "1    0.44  0.035  0.00462  0.0040  35.0\n",
            "0    0.57  0.040  0.00680  0.0075  40.0\n",
            "3    0.63  0.040  0.00760  0.0100  50.0\n",
            "4    0.71  0.042  0.00900  0.0150  60.0\n"
          ]
        }
      ],
      "metadata": {
        "colab": {
          "base_uri": "https://localhost:8080/"
        },
        "id": "oihHo1UVL6p2",
        "outputId": "484cb3a2-6208-48da-a37a-e0c48984a1d0"
      }
    },
    {
      "cell_type": "markdown",
      "source": [
        "Clear Water => CW\n",
        "Muddy Water => MW"
      ],
      "metadata": {
        "id": "HSI_P9h5L6p3"
      }
    },
    {
      "cell_type": "markdown",
      "source": [
        "جدا کردن داده ها برای پیش بینی و هدف(ورودی و خروجی)"
      ],
      "metadata": {
        "id": "4D-TGLqZL6p3"
      }
    },
    {
      "cell_type": "code",
      "execution_count": null,
      "source": [
        "#clear water\n",
        "CW_predict_D = ClearWater_dataframe_needed['Ds(m)'].values\n",
        "CW_target_V  = ClearWater_dataframe_needed['v(mls)'].values\n",
        "CW_target_dm = ClearWater_dataframe_needed['d(m)'].values\n",
        "CW_target_Q  = ClearWater_dataframe_needed['Q'].values\n",
        "\n",
        "#Muddy Water\n",
        "MW_predict_D = MuddyWater_dataframe_needed['Ds(m)'].values\n",
        "MW_target_V  = MuddyWater_dataframe_needed['v(mls)'].values\n",
        "MW_target_dm = MuddyWater_dataframe_needed['d(m)'].values\n",
        "MW_target_Q  = MuddyWater_dataframe_needed['Q'].values\n",
        "MW_target_cw  = MuddyWater_dataframe_needed['cw'].values\n"
      ],
      "outputs": [],
      "metadata": {
        "id": "9QrWCbJ_L6p4"
      }
    },
    {
      "cell_type": "markdown",
      "source": [
        "محاسبه و جدا سازی بخش یادگیری و تست"
      ],
      "metadata": {
        "id": "7HQH0SXBL6p5"
      }
    },
    {
      "cell_type": "code",
      "execution_count": null,
      "source": [],
      "outputs": [],
      "metadata": {
        "id": "0RWtfJm3L6p5"
      }
    },
    {
      "cell_type": "code",
      "execution_count": null,
      "source": [
        "#for muddy watter\n",
        "MW_D_V_X_train, MW_D_V_X_test, MW_D_V_y_train, MW_D_V_y_test =  train_test_split(MW_predict_D,MW_target_V,test_size=0.13, random_state = 2,shuffle=False)\n",
        "MW_D_d_X_train, MW_D_d_X_test, MW_D_d_y_train, MW_D_d_y_test = train_test_split(MW_predict_D,MW_target_dm,test_size=0.13, random_state = 2,shuffle=True)\n",
        "MW_D_Q_X_train, MW_D_Q_X_test, MW_D_Q_y_train, MW_D_Q_y_test = train_test_split(MW_predict_D,MW_target_Q,test_size=0.13, random_state = 2,shuffle=True)\n",
        "MW_D_cw_X_train, MW_D_cw_X_test, MW_D_cw_y_train, MW_D_cw_y_test = train_test_split(MW_predict_D,MW_target_cw,test_size=0.13, random_state = 2,shuffle=True)\n",
        "\n",
        "#for clear watter\n",
        "CW_D_V_X_train, CW_D_V_X_test, CW_D_V_y_train, CW_D_V_y_test = train_test_split(CW_predict_D,CW_target_V,test_size=0.13, random_state = 2,shuffle=True)\n",
        "CW_D_d_X_train, CW_D_d_X_test, CW_D_d_y_train, CW_D_d_y_test = train_test_split(CW_predict_D,CW_target_dm,test_size=0.13, random_state = 2,shuffle=True)\n",
        "CW_D_Q_X_train, CW_D_Q_X_test, CW_D_Q_y_train, CW_D_Q_y_test = train_test_split(CW_predict_D,CW_target_Q,test_size=0.13, random_state = 2,shuffle=True)\n"
      ],
      "outputs": [],
      "metadata": {
        "id": "Ke73lr_fL6p6"
      }
    },
    {
      "cell_type": "markdown",
      "source": [
        "مدل ها شبکه عصبی برای محاسبه آب ذرات معلق\n"
      ],
      "metadata": {
        "id": "j1CwkaEeL6p6"
      }
    },
    {
      "cell_type": "code",
      "execution_count": null,
      "source": [
        "# Import the kera modules\n",
        "from keras.layers import Input, Dense\n",
        "from keras.models import Model\n",
        "\n",
        "def create_model_V():\n",
        "    # This returns a tensor. Since the input only has one column\n",
        "    inputs = Input(shape=(1,))\n",
        "\n",
        "    # a layer instance is callable on a tensor, and returns a tensor\n",
        "    # To the first layer we are feeding inputs\n",
        "    x = Dense(128, activation='relu')(inputs)\n",
        "    # To the next layer we are feeding the result of previous call here it is h\n",
        "    x = Dense(256, activation='relu')(x)\n",
        "    x = Dense(256, activation='relu')(x)\n",
        "\n",
        "    # Predictions are the result of the neural network. Notice that the predictions are also having one column.\n",
        "    predictions = Dense(1)(x)\n",
        "\n",
        "    # This creates a model that includes\n",
        "    # the Input layer and three Dense layers\n",
        "    model = Model(inputs=inputs, outputs=predictions)\n",
        "    model.compile(optimizer='rmsprop',\n",
        "                loss='mse',\n",
        "                metrics=['mse'])\n",
        "\n",
        "    return model\n",
        "\n",
        "\n",
        "def create_model_d():\n",
        "    inputs = Input(shape=(1,))\n",
        "\n",
        "    # a layer instance is callable on a tensor, and returns a tensor\n",
        "    # To the first layer we are feeding inputs\n",
        "    x = Dense(32, activation='relu')(inputs)\n",
        "    # To the next layer we are feeding the result of previous call here it is h\n",
        "    x = Dense(64, activation='relu')(x)\n",
        "    x = Dense(64, activation='relu')(x)\n",
        "\n",
        "    # Predictions are the result of the neural network. Notice that the predictions are also having one column.\n",
        "    predictions = Dense(1)(x)\n",
        "\n",
        "    # This creates a model that includes\n",
        "    # the Input layer and three Dense layers\n",
        "    model = Model(inputs=inputs, outputs=predictions)\n",
        "    model.compile(optimizer='rmsprop',\n",
        "                loss='mse',\n",
        "                metrics=['mse'])\n",
        "\n",
        "    return model\n",
        "\n",
        "def create_model_Q():\n",
        "    inputs = Input(shape=(1,))\n",
        "\n",
        "    # a layer instance is callable on a tensor, and returns a tensor\n",
        "    # To the first layer we are feeding inputs\n",
        "    x = Dense(32, activation='relu')(inputs)\n",
        "    # To the next layer we are feeding the result of previous call here it is h\n",
        "    x = Dense(256, activation='relu')(x)\n",
        "    #x = Dense(1024, activation='relu')(x)\n",
        "    #x = Dense(1024, activation='relu')(x)\n",
        "\n",
        "    # Predictions are the result of the neural network. Notice that the predictions are also having one column.\n",
        "    predictions = Dense(1)(x)\n",
        "\n",
        "    # This creates a model that includes\n",
        "    # the Input layer and three Dense layers\n",
        "    model = Model(inputs=inputs, outputs=predictions)\n",
        "    model.compile(optimizer='rmsprop',\n",
        "                loss='mse',\n",
        "                metrics=['mse'])\n",
        "\n",
        "    return model\n",
        "\n",
        "\n",
        "\n",
        "\n",
        "def create_model_cw():\n",
        "    inputs = Input(shape=(1,))\n",
        "\n",
        "    # a layer instance is callable on a tensor, and returns a tensor\n",
        "    # To the first layer we are feeding inputs\n",
        "    x = Dense(256, activation='relu')(inputs)\n",
        "    # To the next layer we are feeding the result of previous call here it is h\n",
        "    x = Dense(512, activation='relu')(x)\n",
        "    x = Dense(512, activation='relu')(x)\n",
        "    #x = Dense(1024, activation='relu')(x)\n",
        "    #x = Dense(1024, activation='relu')(x)\n",
        "\n",
        "    # Predictions are the result of the neural network. Notice that the predictions are also having one column.\n",
        "    predictions = Dense(1)(x)\n",
        "\n",
        "    # This creates a model that includes\n",
        "    # the Input layer and three Dense layers\n",
        "    model = Model(inputs=inputs, outputs=predictions)\n",
        "    model.compile(optimizer='rmsprop',\n",
        "                loss='mse',\n",
        "                metrics=['mse'])\n",
        "\n",
        "    return model"
      ],
      "outputs": [],
      "metadata": {
        "id": "YIZ8KVNKL6p7"
      }
    },
    {
      "cell_type": "code",
      "execution_count": null,
      "source": [
        "# Define V by D for muddy watter\n",
        "MW_calc_V_model = create_model_V()\n",
        "# Define d by D for muddy watter\n",
        "MW_calc_d_model = create_model_d()\n",
        "# Define Q by D for muddy watter\n",
        "MW_calc_Q_model = create_model_Q()\n",
        "MW_calc_cw_model = create_model_cw()\n",
        "\n"
      ],
      "outputs": [],
      "metadata": {
        "id": "WaG66rnML6p_"
      }
    },
    {
      "cell_type": "markdown",
      "source": [
        "آعاز یادگیری شبکه عصبی"
      ],
      "metadata": {
        "id": "QHPa399WL6qA"
      }
    },
    {
      "cell_type": "code",
      "execution_count": null,
      "source": [
        "# Define V by D for clear watter\n",
        "CW_calc_V_model = create_model_V()\n",
        "\n",
        "CW_calc_d_model = create_model_d()\n",
        "# Define Q by D for clear watter\n",
        "CW_calc_Q_model = create_model_Q()"
      ],
      "outputs": [],
      "metadata": {
        "id": "s21ZPZvCL6qA"
      }
    },
    {
      "cell_type": "markdown",
      "source": [
        "آغاز محاسبات برای آب دارای مواد معلق"
      ],
      "metadata": {
        "id": "1wNDkLqjL6qB"
      }
    },
    {
      "cell_type": "code",
      "execution_count": null,
      "source": [
        "\n",
        "MW_calc_V_model.fit(MW_D_V_X_train, MW_D_V_y_train, epochs=1000,batch_size=1,verbose=False)\n",
        "MW_calc_Q_model.fit(MW_D_Q_X_train, MW_D_Q_y_train, epochs=2000,batch_size=1,verbose=False)\n",
        "MW_calc_d_model.fit(MW_D_d_X_train, MW_D_d_y_train, epochs=2000,batch_size=1,verbose=False)\n",
        "MW_calc_cw_model.fit(MW_D_cw_X_train, MW_D_cw_y_train, epochs=1000,batch_size=1,verbose=False)\n",
        "\n"
      ],
      "outputs": [
        {
          "output_type": "execute_result",
          "data": {
            "text/plain": [
              "<keras.callbacks.History at 0x7f1dd8cdb7d0>"
            ]
          },
          "metadata": {},
          "execution_count": 13
        }
      ],
      "metadata": {
        "colab": {
          "base_uri": "https://localhost:8080/"
        },
        "id": "xT8eufmIL6qB",
        "outputId": "fdc3c40a-7a46-4001-b4b3-1ebdb901b65a"
      }
    },
    {
      "cell_type": "markdown",
      "source": [
        "آغاز محاسبه برای آب زلال"
      ],
      "metadata": {
        "id": "nqTr04UyL6qB"
      }
    },
    {
      "cell_type": "code",
      "execution_count": null,
      "source": [
        "CW_calc_V_model.fit(CW_D_V_X_train, CW_D_V_y_train, epochs=1000,batch_size=1,verbose=False)\n",
        "CW_calc_Q_model.fit(CW_D_Q_X_train, CW_D_Q_y_train, epochs=2000,batch_size=1,verbose=False)\n",
        "CW_calc_d_model.fit(CW_D_d_X_train, CW_D_d_y_train, epochs=2000,batch_size=1,verbose=False)\n"
      ],
      "outputs": [
        {
          "output_type": "execute_result",
          "data": {
            "text/plain": [
              "<keras.callbacks.History at 0x7f1dd88fbb50>"
            ]
          },
          "metadata": {},
          "execution_count": 14
        }
      ],
      "metadata": {
        "colab": {
          "base_uri": "https://localhost:8080/"
        },
        "id": "_g1T5izCL6qC",
        "outputId": "0935adbd-b70b-424c-899d-36a8c5093272"
      }
    },
    {
      "cell_type": "markdown",
      "source": [
        "آموزش و تست شبکه های آب ذرات معلق"
      ],
      "metadata": {
        "id": "a7-kbxNbL6qC"
      }
    },
    {
      "cell_type": "code",
      "execution_count": null,
      "source": [
        "MW_D_V_pred_train= MW_calc_V_model.predict(MW_D_V_X_train)\n",
        "MW_D_V_pred= MW_calc_V_model.predict(MW_D_V_X_test)\n",
        "continue_data_V = np.arange(0.018,0.1,0.002)\n",
        "continue_v_pred = MW_calc_V_model.predict(continue_data_V)\n",
        "before_data_V = np.arange(0,0.002,0.001)\n",
        "before_v_pred = MW_calc_V_model.predict(before_data_V)\n",
        "\n",
        "MW_D_Q_pred_train= MW_calc_Q_model.predict(MW_D_Q_X_train)\n",
        "MW_D_Q_pred= MW_calc_Q_model.predict(MW_D_Q_X_test)\n",
        "continue_data_Q = np.arange(0.018,0.08,0.002)\n",
        "continue_Q_pred = MW_calc_Q_model.predict(continue_data_Q)\n",
        "before_data_Q = np.arange(0,0.002,0.001)\n",
        "before_Q_pred = MW_calc_Q_model.predict(before_data_Q)\n",
        "\n",
        "MW_D_d_pred_train= MW_calc_d_model.predict(MW_D_d_X_train)\n",
        "MW_D_d_pred= MW_calc_d_model.predict(MW_D_d_X_test)\n",
        "continue_data_d = np.arange(0.018,0.08,0.002)\n",
        "continue_d_pred = MW_calc_d_model.predict(continue_data_d)\n",
        "before_data_d = np.arange(0,0.002,0.001)\n",
        "before_d_pred = MW_calc_d_model.predict(before_data_d)\n",
        "\n",
        "\n",
        "MW_D_cw_pred_train= MW_calc_cw_model.predict(MW_D_cw_X_train)\n",
        "MW_D_cw_pred= MW_calc_cw_model.predict(MW_D_cw_X_test)\n",
        "continue_data_cw = np.arange(0.018,0.08,0.002)\n",
        "continue_cw_pred = MW_calc_cw_model.predict(continue_data_cw)\n",
        "before_data_cw = np.arange(0,0.002,0.001)\n",
        "before_cw_pred = MW_calc_cw_model.predict(before_data_cw)\n"
      ],
      "outputs": [],
      "metadata": {
        "id": "E_zf0LvrL6qC"
      }
    },
    {
      "cell_type": "markdown",
      "source": [
        "آموزش و تست شبکه آب زلال"
      ],
      "metadata": {
        "id": "Co6Dl7OYL6qD"
      }
    },
    {
      "cell_type": "code",
      "execution_count": null,
      "source": [
        "CW_D_V_pred_train= CW_calc_V_model.predict(CW_D_V_X_train)\n",
        "CW_D_V_pred= CW_calc_V_model.predict(CW_D_V_X_test)\n",
        "continue_data_V_c = np.arange(0.018,0.09,0.002)\n",
        "continue_v_pred_c = CW_calc_V_model.predict(continue_data_V_c)\n",
        "before_data_V_c = np.arange(0,0.002,0.001)\n",
        "before_v_pred_c = CW_calc_V_model.predict(before_data_V_c)\n",
        "\n",
        "CW_D_Q_pred_train= CW_calc_Q_model.predict(CW_D_Q_X_train)\n",
        "CW_D_Q_pred= CW_calc_Q_model.predict(CW_D_Q_X_test)\n",
        "continue_data_Q_c = np.arange(0.018,0.09,0.002)\n",
        "continue_Q_pred_c = CW_calc_Q_model.predict(continue_data_Q_c)\n",
        "before_data_Q_c = np.arange(0,0.002,0.001)\n",
        "before_Q_pred_c = CW_calc_Q_model.predict(before_data_Q_c)\n",
        "\n",
        "CW_D_d_pred_train= CW_calc_d_model.predict(CW_D_d_X_train)\n",
        "CW_D_d_pred= CW_calc_d_model.predict(CW_D_d_X_test)\n",
        "continue_data_d_c = np.arange(0.018,0.09,0.002)\n",
        "continue_d_pred_c = CW_calc_d_model.predict(continue_data_d_c)\n",
        "before_data_d_c = np.arange(0,0.002,0.001)\n",
        "before_d_pred_c = CW_calc_d_model.predict(before_data_d_c)\n"
      ],
      "outputs": [],
      "metadata": {
        "id": "hGCuVLlKL6qD"
      }
    },
    {
      "cell_type": "markdown",
      "source": [
        "نمابش نموداری داده ها و تست شبکه برای آب با ذرات معلق"
      ],
      "metadata": {
        "id": "wurE1YpvL6qE"
      }
    },
    {
      "cell_type": "code",
      "execution_count": null,
      "source": [
        "\n",
        "plt.plot(MW_predict_D,MW_target_V,color='blue', linestyle='-', linewidth=1, label=get_display(arabic_reshaper.reshape(\"داده ها \")))\n",
        "plt.scatter(MW_D_V_X_test,MW_D_V_pred,color=\"red\",label =get_display(arabic_reshaper.reshape(\"داده آزمایش\")))\n",
        "plt.scatter(continue_data_V,continue_v_pred, label= get_display(arabic_reshaper.reshape(\" پبش بینی آینده \")))\n",
        "plt.scatter(before_data_V,before_v_pred, label= get_display(arabic_reshaper.reshape(\" پبش بینی آینده \")))\n",
        "plt.legend()\n",
        "\n",
        "plt.show()"
      ],
      "outputs": [
        {
          "output_type": "display_data",
          "data": {
            "image/png": "[encoded data removed]",
            "text/plain": [
              "<Figure size 432x288 with 1 Axes>"
            ]
          },
          "metadata": {}
        }
      ],
      "metadata": {
        "colab": {
          "base_uri": "https://localhost:8080/",
          "height": 268
        },
        "id": "8ZyPeY-jL6qE",
        "outputId": "f99f8840-21d6-4e94-9f66-2870f47bb38d"
      }
    },
    {
      "cell_type": "code",
      "execution_count": null,
      "source": [
        "plt.plot(MW_predict_D,MW_target_dm,color='orange', linestyle='-', linewidth=1, label=get_display(arabic_reshaper.reshape(\"داده ها \")))\n",
        "plt.scatter(MW_D_d_X_test,MW_D_d_pred,color=\"pink\",label =get_display(arabic_reshaper.reshape(\"داده آزمایش\")))\n",
        "plt.scatter(continue_data_d,continue_d_pred,color=\"orange\", label= get_display(arabic_reshaper.reshape(\" پبش بینی آینده \")))\n",
        "plt.scatter(before_data_d,before_d_pred,color=\"orange\", label= get_display(arabic_reshaper.reshape(\" پبش بینی آینده \")))\n",
        "plt.legend()\n",
        "\n",
        "plt.show()"
      ],
      "outputs": [
        {
          "output_type": "display_data",
          "data": {
            "image/png": "[encoded data removed]",
            "text/plain": [
              "<Figure size 432x288 with 1 Axes>"
            ]
          },
          "metadata": {}
        }
      ],
      "metadata": {
        "colab": {
          "base_uri": "https://localhost:8080/",
          "height": 268
        },
        "id": "--OgR4JsL6qE",
        "outputId": "ac0a52f8-47fa-4a6d-a49d-03c85977f8de"
      }
    },
    {
      "cell_type": "code",
      "execution_count": null,
      "source": [
        "plt.plot(MW_predict_D,MW_target_Q,color='green', linestyle='-', linewidth=1, label=get_display(arabic_reshaper.reshape(\"داده ها \")))\n",
        "plt.scatter(MW_D_Q_X_test,MW_D_Q_pred,color=\"black\",label =get_display(arabic_reshaper.reshape(\"داده آزمایش\")))\n",
        "plt.scatter(continue_data_Q,continue_Q_pred,color=\"green\", label= get_display(arabic_reshaper.reshape(\" پبش بینی آینده \")))\n",
        "plt.scatter(before_data_Q,before_Q_pred,color=\"green\", label= get_display(arabic_reshaper.reshape(\" پبش بینی آینده \")))\n",
        "plt.legend()\n",
        "\n",
        "plt.show()"
      ],
      "outputs": [
        {
          "output_type": "display_data",
          "data": {
            "image/png": "[encoded data removed]",
            "text/plain": [
              "<Figure size 432x288 with 1 Axes>"
            ]
          },
          "metadata": {}
        }
      ],
      "metadata": {
        "colab": {
          "base_uri": "https://localhost:8080/",
          "height": 268
        },
        "id": "I5S5udj4L6qF",
        "outputId": "e0e2c140-51ad-44ae-d09d-0ca6520a6491"
      }
    },
    {
      "cell_type": "code",
      "execution_count": null,
      "source": [
        "plt.plot(MW_predict_D,MW_target_cw,color='green', linestyle='-', linewidth=1, label=get_display(arabic_reshaper.reshape(\"داده ها \")))\n",
        "plt.scatter(MW_D_cw_X_test,MW_D_cw_pred,color=\"black\",label =get_display(arabic_reshaper.reshape(\"داده آزمایش\")))\n",
        "plt.scatter(continue_data_cw,continue_cw_pred,color=\"green\", label= get_display(arabic_reshaper.reshape(\" پبش بینی آینده \")))\n",
        "plt.scatter(before_data_cw,before_cw_pred,color=\"green\", label= get_display(arabic_reshaper.reshape(\" پبش بینی آینده \")))\n",
        "plt.legend()\n",
        "\n",
        "plt.show()"
      ],
      "outputs": [
        {
          "output_type": "display_data",
          "data": {
            "image/png": "[encoded data removed]",
            "text/plain": [
              "<Figure size 432x288 with 1 Axes>"
            ]
          },
          "metadata": {}
        }
      ],
      "metadata": {
        "colab": {
          "base_uri": "https://localhost:8080/",
          "height": 268
        },
        "id": "orNpgnGOL6qF",
        "outputId": "4b492e96-3176-44f3-e266-d4f57b84dd28"
      }
    },
    {
      "cell_type": "markdown",
      "source": [
        "نمابش نموداری داده ها و تست شبکه برای آب زلال"
      ],
      "metadata": {
        "id": "J0PwLNkWL6qF"
      }
    },
    {
      "cell_type": "code",
      "execution_count": null,
      "source": [
        "plt.plot(CW_predict_D,CW_target_V,color='blue', linestyle='-', linewidth=1, label=get_display(arabic_reshaper.reshape(\"داده ها \")))\n",
        "plt.scatter(CW_D_V_X_test,CW_D_V_pred,color=\"red\",label =get_display(arabic_reshaper.reshape(\"داده آزمایش\")))\n",
        "plt.scatter(continue_data_V_c,continue_v_pred_c, label= get_display(arabic_reshaper.reshape(\" پبش بینی آینده \")))\n",
        "plt.scatter(before_data_V_c,before_v_pred_c, label= get_display(arabic_reshaper.reshape(\" پبش بینی آینده \")))\n",
        "plt.legend()\n",
        "\n",
        "plt.show()"
      ],
      "outputs": [
        {
          "output_type": "display_data",
          "data": {
            "image/png": "[encoded data removed]",
            "text/plain": [
              "<Figure size 432x288 with 1 Axes>"
            ]
          },
          "metadata": {}
        }
      ],
      "metadata": {
        "colab": {
          "base_uri": "https://localhost:8080/",
          "height": 268
        },
        "id": "tXtRpyQXL6qG",
        "outputId": "37c26228-ccc4-4db4-904d-0536a5bdc215"
      }
    },
    {
      "cell_type": "code",
      "execution_count": null,
      "source": [
        "plt.plot(CW_predict_D,CW_target_dm,color='orange', linestyle='-', linewidth=1, label=get_display(arabic_reshaper.reshape(\"داده ها \")))\n",
        "plt.scatter(CW_D_d_X_test,CW_D_d_pred,color=\"pink\",label =get_display(arabic_reshaper.reshape(\"داده آزمایش\")))\n",
        "plt.scatter(continue_data_d_c,continue_d_pred_c, label= get_display(arabic_reshaper.reshape(\" پبش بینی آینده \")))\n",
        "plt.scatter(before_data_d_c,before_d_pred_c, label= get_display(arabic_reshaper.reshape(\" پبش بینی آینده \")))\n",
        "plt.legend()\n",
        "\n",
        "plt.show()"
      ],
      "outputs": [
        {
          "output_type": "display_data",
          "data": {
            "image/png": "[encoded data removed]",
            "text/plain": [
              "<Figure size 432x288 with 1 Axes>"
            ]
          },
          "metadata": {}
        }
      ],
      "metadata": {
        "colab": {
          "base_uri": "https://localhost:8080/",
          "height": 268
        },
        "id": "WVLBL-q4L6qG",
        "outputId": "362b2986-2d09-4bca-c4bf-9082c5bd54e9"
      }
    },
    {
      "cell_type": "code",
      "execution_count": null,
      "source": [
        "plt.plot(CW_predict_D,CW_target_Q,color='green', linestyle='-', linewidth=1, label=get_display(arabic_reshaper.reshape(\"داده ها \")))\n",
        "plt.scatter(CW_D_Q_X_test,CW_D_Q_pred,color=\"black\",label =get_display(arabic_reshaper.reshape(\"داده آزمایش\")))\n",
        "plt.scatter(continue_data_Q_c,continue_Q_pred_c, label= get_display(arabic_reshaper.reshape(\" پبش بینی آینده \")))\n",
        "plt.scatter(before_data_Q_c,before_Q_pred_c, label= get_display(arabic_reshaper.reshape(\" پبش بینی آینده \")))\n",
        "plt.legend()\n",
        "plt.show()"
      ],
      "outputs": [
        {
          "output_type": "display_data",
          "data": {
            "image/png": "[encoded data removed]",
            "text/plain": [
              "<Figure size 432x288 with 1 Axes>"
            ]
          },
          "metadata": {}
        }
      ],
      "metadata": {
        "colab": {
          "base_uri": "https://localhost:8080/",
          "height": 268
        },
        "id": "14aVgKCTL6qH",
        "outputId": "ef5f1ee1-eec7-499a-f55a-05d69fa7bbd9"
      }
    },
    {
      "cell_type": "markdown",
      "source": [
        "وارد کردن داده های تولید شده به جدول ها"
      ],
      "metadata": {
        "id": "OUivX0ixL6qH"
      }
    },
    {
      "cell_type": "code",
      "execution_count": null,
      "source": [
        "\n",
        "Muddy = pd.DataFrame({'v(mls)':np.concatenate( before_v_pred, axis=0 ).tolist()+MW_target_V.tolist()+np.concatenate( continue_v_pred, axis=0 ).tolist(),\n",
        "                        'd(m)':np.concatenate( before_d_pred, axis=0 ).tolist()+MW_target_dm.tolist()+np.concatenate( continue_d_pred, axis=0 ).tolist(),\n",
        "                        'Q':np.concatenate( before_Q_pred, axis=0 ).tolist()+MW_target_Q.tolist()+np.concatenate( continue_Q_pred, axis=0 ).tolist(),\n",
        "                        'cw':np.concatenate( before_cw_pred, axis=0 ).tolist()+MW_target_cw.tolist()+np.concatenate( continue_cw_pred, axis=0 ).tolist(),\n",
        "                        'Ds(m)':before_data_Q.tolist()+MW_predict_D.tolist()+continue_data_Q.tolist()})\n",
        "\n",
        "Clear = pd.DataFrame({'v(mls)':np.concatenate( before_v_pred_c, axis=0 ).tolist()+CW_target_V.tolist()+np.concatenate( continue_v_pred_c, axis=0 ).tolist(),\n",
        "                        'd(m)':np.concatenate( before_d_pred_c, axis=0 ).tolist()+CW_target_dm.tolist()+np.concatenate( continue_d_pred_c, axis=0 ).tolist(),\n",
        "                        'Q':np.concatenate( before_Q_pred_c, axis=0 ).tolist()+CW_target_Q.tolist()+np.concatenate( continue_Q_pred_c, axis=0 ).tolist(),\n",
        "                        'Ds(m)':before_data_Q_c.tolist()+CW_predict_D.tolist()+continue_data_Q_c.tolist()})\n",
        "\n",
        "Muddy.to_excel(\"Muddy_ouput.xlsx\",\"Muddy Water\")\n",
        "Clear.to_excel(\"Clear_ouput.xlsx\",\"Clear Water\")"
      ],
      "outputs": [],
      "metadata": {
        "id": "sDD5utqPL6qH"
      }
    },
    {
      "cell_type": "code",
      "execution_count": null,
      "source": [
        "\n",
        "Clear\n"
      ],
      "outputs": [
        {
          "output_type": "execute_result",
          "data": {
            "text/html": [
              "\n",
              "  <div id=\"df-10df915e-bbaf-4566-81c6-0124eac6e977\">\n",
              "    <div class=\"colab-df-container\">\n",
              "      <div>\n",
              "<style scoped>\n",
              "    .dataframe tbody tr th:only-of-type {\n",
              "        vertical-align: middle;\n",
              "    }\n",
              "\n",
              "    .dataframe tbody tr th {\n",
              "        vertical-align: top;\n",
              "    }\n",
              "\n",
              "    .dataframe thead th {\n",
              "        text-align: right;\n",
              "    }\n",
              "</style>\n",
              "<table border=\"1\" class=\"dataframe\">\n",
              "  <thead>\n",
              "    <tr style=\"text-align: right;\">\n",
              "      <th></th>\n",
              "      <th>v(mls)</th>\n",
              "      <th>d(m)</th>\n",
              "      <th>Q</th>\n",
              "      <th>Ds(m)</th>\n",
              "    </tr>\n",
              "  </thead>\n",
              "  <tbody>\n",
              "    <tr>\n",
              "      <th>0</th>\n",
              "      <td>0.400810</td>\n",
              "      <td>0.021699</td>\n",
              "      <td>0.002397</td>\n",
              "      <td>0.0000</td>\n",
              "    </tr>\n",
              "    <tr>\n",
              "      <th>1</th>\n",
              "      <td>0.400810</td>\n",
              "      <td>0.021699</td>\n",
              "      <td>0.002397</td>\n",
              "      <td>0.0010</td>\n",
              "    </tr>\n",
              "    <tr>\n",
              "      <th>2</th>\n",
              "      <td>0.400000</td>\n",
              "      <td>0.020000</td>\n",
              "      <td>0.002400</td>\n",
              "      <td>0.0020</td>\n",
              "    </tr>\n",
              "    <tr>\n",
              "      <th>3</th>\n",
              "      <td>0.520000</td>\n",
              "      <td>0.030000</td>\n",
              "      <td>0.004700</td>\n",
              "      <td>0.0040</td>\n",
              "    </tr>\n",
              "    <tr>\n",
              "      <th>4</th>\n",
              "      <td>0.650000</td>\n",
              "      <td>0.037000</td>\n",
              "      <td>0.007200</td>\n",
              "      <td>0.0075</td>\n",
              "    </tr>\n",
              "    <tr>\n",
              "      <th>5</th>\n",
              "      <td>0.700000</td>\n",
              "      <td>0.038000</td>\n",
              "      <td>0.008000</td>\n",
              "      <td>0.0100</td>\n",
              "    </tr>\n",
              "    <tr>\n",
              "      <th>6</th>\n",
              "      <td>0.780000</td>\n",
              "      <td>0.040000</td>\n",
              "      <td>0.009400</td>\n",
              "      <td>0.0150</td>\n",
              "    </tr>\n",
              "    <tr>\n",
              "      <th>7</th>\n",
              "      <td>0.789772</td>\n",
              "      <td>0.041658</td>\n",
              "      <td>0.010648</td>\n",
              "      <td>0.0180</td>\n",
              "    </tr>\n",
              "    <tr>\n",
              "      <th>8</th>\n",
              "      <td>0.813981</td>\n",
              "      <td>0.040448</td>\n",
              "      <td>0.011223</td>\n",
              "      <td>0.0200</td>\n",
              "    </tr>\n",
              "    <tr>\n",
              "      <th>9</th>\n",
              "      <td>0.838162</td>\n",
              "      <td>0.039160</td>\n",
              "      <td>0.011986</td>\n",
              "      <td>0.0220</td>\n",
              "    </tr>\n",
              "    <tr>\n",
              "      <th>10</th>\n",
              "      <td>0.862411</td>\n",
              "      <td>0.037775</td>\n",
              "      <td>0.012783</td>\n",
              "      <td>0.0240</td>\n",
              "    </tr>\n",
              "    <tr>\n",
              "      <th>11</th>\n",
              "      <td>0.886703</td>\n",
              "      <td>0.036383</td>\n",
              "      <td>0.013431</td>\n",
              "      <td>0.0260</td>\n",
              "    </tr>\n",
              "    <tr>\n",
              "      <th>12</th>\n",
              "      <td>0.911064</td>\n",
              "      <td>0.035005</td>\n",
              "      <td>0.014115</td>\n",
              "      <td>0.0280</td>\n",
              "    </tr>\n",
              "    <tr>\n",
              "      <th>13</th>\n",
              "      <td>0.935393</td>\n",
              "      <td>0.033591</td>\n",
              "      <td>0.014849</td>\n",
              "      <td>0.0300</td>\n",
              "    </tr>\n",
              "    <tr>\n",
              "      <th>14</th>\n",
              "      <td>0.959647</td>\n",
              "      <td>0.032105</td>\n",
              "      <td>0.015623</td>\n",
              "      <td>0.0320</td>\n",
              "    </tr>\n",
              "    <tr>\n",
              "      <th>15</th>\n",
              "      <td>0.983869</td>\n",
              "      <td>0.030619</td>\n",
              "      <td>0.016436</td>\n",
              "      <td>0.0340</td>\n",
              "    </tr>\n",
              "    <tr>\n",
              "      <th>16</th>\n",
              "      <td>1.007985</td>\n",
              "      <td>0.029133</td>\n",
              "      <td>0.017256</td>\n",
              "      <td>0.0360</td>\n",
              "    </tr>\n",
              "    <tr>\n",
              "      <th>17</th>\n",
              "      <td>1.032078</td>\n",
              "      <td>0.027647</td>\n",
              "      <td>0.018085</td>\n",
              "      <td>0.0380</td>\n",
              "    </tr>\n",
              "    <tr>\n",
              "      <th>18</th>\n",
              "      <td>1.056243</td>\n",
              "      <td>0.026158</td>\n",
              "      <td>0.018920</td>\n",
              "      <td>0.0400</td>\n",
              "    </tr>\n",
              "    <tr>\n",
              "      <th>19</th>\n",
              "      <td>1.080457</td>\n",
              "      <td>0.024655</td>\n",
              "      <td>0.019744</td>\n",
              "      <td>0.0420</td>\n",
              "    </tr>\n",
              "    <tr>\n",
              "      <th>20</th>\n",
              "      <td>1.104677</td>\n",
              "      <td>0.023142</td>\n",
              "      <td>0.020550</td>\n",
              "      <td>0.0440</td>\n",
              "    </tr>\n",
              "    <tr>\n",
              "      <th>21</th>\n",
              "      <td>1.128875</td>\n",
              "      <td>0.021620</td>\n",
              "      <td>0.021350</td>\n",
              "      <td>0.0460</td>\n",
              "    </tr>\n",
              "    <tr>\n",
              "      <th>22</th>\n",
              "      <td>1.153051</td>\n",
              "      <td>0.020098</td>\n",
              "      <td>0.022148</td>\n",
              "      <td>0.0480</td>\n",
              "    </tr>\n",
              "    <tr>\n",
              "      <th>23</th>\n",
              "      <td>1.177223</td>\n",
              "      <td>0.018575</td>\n",
              "      <td>0.022946</td>\n",
              "      <td>0.0500</td>\n",
              "    </tr>\n",
              "    <tr>\n",
              "      <th>24</th>\n",
              "      <td>1.201399</td>\n",
              "      <td>0.017053</td>\n",
              "      <td>0.023738</td>\n",
              "      <td>0.0520</td>\n",
              "    </tr>\n",
              "    <tr>\n",
              "      <th>25</th>\n",
              "      <td>1.225579</td>\n",
              "      <td>0.015531</td>\n",
              "      <td>0.024506</td>\n",
              "      <td>0.0540</td>\n",
              "    </tr>\n",
              "    <tr>\n",
              "      <th>26</th>\n",
              "      <td>1.249761</td>\n",
              "      <td>0.014008</td>\n",
              "      <td>0.025264</td>\n",
              "      <td>0.0560</td>\n",
              "    </tr>\n",
              "    <tr>\n",
              "      <th>27</th>\n",
              "      <td>1.273941</td>\n",
              "      <td>0.012486</td>\n",
              "      <td>0.026023</td>\n",
              "      <td>0.0580</td>\n",
              "    </tr>\n",
              "    <tr>\n",
              "      <th>28</th>\n",
              "      <td>1.298090</td>\n",
              "      <td>0.010958</td>\n",
              "      <td>0.026790</td>\n",
              "      <td>0.0600</td>\n",
              "    </tr>\n",
              "    <tr>\n",
              "      <th>29</th>\n",
              "      <td>1.322173</td>\n",
              "      <td>0.009423</td>\n",
              "      <td>0.027565</td>\n",
              "      <td>0.0620</td>\n",
              "    </tr>\n",
              "    <tr>\n",
              "      <th>30</th>\n",
              "      <td>1.346246</td>\n",
              "      <td>0.007887</td>\n",
              "      <td>0.028338</td>\n",
              "      <td>0.0640</td>\n",
              "    </tr>\n",
              "    <tr>\n",
              "      <th>31</th>\n",
              "      <td>1.370322</td>\n",
              "      <td>0.006352</td>\n",
              "      <td>0.029111</td>\n",
              "      <td>0.0660</td>\n",
              "    </tr>\n",
              "    <tr>\n",
              "      <th>32</th>\n",
              "      <td>1.394398</td>\n",
              "      <td>0.004816</td>\n",
              "      <td>0.029885</td>\n",
              "      <td>0.0680</td>\n",
              "    </tr>\n",
              "    <tr>\n",
              "      <th>33</th>\n",
              "      <td>1.418475</td>\n",
              "      <td>0.003283</td>\n",
              "      <td>0.030659</td>\n",
              "      <td>0.0700</td>\n",
              "    </tr>\n",
              "    <tr>\n",
              "      <th>34</th>\n",
              "      <td>1.442551</td>\n",
              "      <td>0.001752</td>\n",
              "      <td>0.031433</td>\n",
              "      <td>0.0720</td>\n",
              "    </tr>\n",
              "    <tr>\n",
              "      <th>35</th>\n",
              "      <td>1.466627</td>\n",
              "      <td>0.000222</td>\n",
              "      <td>0.032207</td>\n",
              "      <td>0.0740</td>\n",
              "    </tr>\n",
              "    <tr>\n",
              "      <th>36</th>\n",
              "      <td>1.490704</td>\n",
              "      <td>-0.001309</td>\n",
              "      <td>0.032981</td>\n",
              "      <td>0.0760</td>\n",
              "    </tr>\n",
              "    <tr>\n",
              "      <th>37</th>\n",
              "      <td>1.514776</td>\n",
              "      <td>-0.002840</td>\n",
              "      <td>0.033755</td>\n",
              "      <td>0.0780</td>\n",
              "    </tr>\n",
              "    <tr>\n",
              "      <th>38</th>\n",
              "      <td>1.538845</td>\n",
              "      <td>-0.004371</td>\n",
              "      <td>0.034529</td>\n",
              "      <td>0.0800</td>\n",
              "    </tr>\n",
              "    <tr>\n",
              "      <th>39</th>\n",
              "      <td>1.562907</td>\n",
              "      <td>-0.005901</td>\n",
              "      <td>0.035303</td>\n",
              "      <td>0.0820</td>\n",
              "    </tr>\n",
              "    <tr>\n",
              "      <th>40</th>\n",
              "      <td>1.586968</td>\n",
              "      <td>-0.007432</td>\n",
              "      <td>0.036077</td>\n",
              "      <td>0.0840</td>\n",
              "    </tr>\n",
              "    <tr>\n",
              "      <th>41</th>\n",
              "      <td>1.611027</td>\n",
              "      <td>-0.008963</td>\n",
              "      <td>0.036851</td>\n",
              "      <td>0.0860</td>\n",
              "    </tr>\n",
              "    <tr>\n",
              "      <th>42</th>\n",
              "      <td>1.635084</td>\n",
              "      <td>-0.010494</td>\n",
              "      <td>0.037625</td>\n",
              "      <td>0.0880</td>\n",
              "    </tr>\n",
              "  </tbody>\n",
              "</table>\n",
              "</div>\n",
              "      <button class=\"colab-df-convert\" onclick=\"convertToInteractive('df-10df915e-bbaf-4566-81c6-0124eac6e977')\"\n",
              "              title=\"Convert this dataframe to an interactive table.\"\n",
              "              style=\"display:none;\">\n",
              "        \n",
              "  <svg xmlns=\"http://www.w3.org/2000/svg\" height=\"24px\"viewBox=\"0 0 24 24\"\n",
              "       width=\"24px\">\n",
              "    <path d=\"M0 0h24v24H0V0z\" fill=\"none\"/>\n",
              "    <path d=\"M18.56 5.44l.94 2.06.94-2.06 2.06-.94-2.06-.94-.94-2.06-.94 2.06-2.06.94zm-11 1L8.5 8.5l.94-2.06 2.06-.94-2.06-.94L8.5 2.5l-.94 2.06-2.06.94zm10 10l.94 2.06.94-2.06 2.06-.94-2.06-.94-.94-2.06-.94 2.06-2.06.94z\"/><path d=\"M17.41 7.96l-1.37-1.37c-.4-.4-.92-.59-1.43-.59-.52 0-1.04.2-1.43.59L10.3 9.45l-7.72 7.72c-.78.78-.78 2.05 0 2.83L4 21.41c.39.39.9.59 1.41.59.51 0 1.02-.2 1.41-.59l7.78-7.78 2.81-2.81c.8-.78.8-2.07 0-2.86zM5.41 20L4 18.59l7.72-7.72 1.47 1.35L5.41 20z\"/>\n",
              "  </svg>\n",
              "      </button>\n",
              "      \n",
              "  <style>\n",
              "    .colab-df-container {\n",
              "      display:flex;\n",
              "      flex-wrap:wrap;\n",
              "      gap: 12px;\n",
              "    }\n",
              "\n",
              "    .colab-df-convert {\n",
              "      background-color: #E8F0FE;\n",
              "      border: none;\n",
              "      border-radius: 50%;\n",
              "      cursor: pointer;\n",
              "      display: none;\n",
              "      fill: #1967D2;\n",
              "      height: 32px;\n",
              "      padding: 0 0 0 0;\n",
              "      width: 32px;\n",
              "    }\n",
              "\n",
              "    .colab-df-convert:hover {\n",
              "      background-color: #E2EBFA;\n",
              "      box-shadow: 0px 1px 2px rgba(60, 64, 67, 0.3), 0px 1px 3px 1px rgba(60, 64, 67, 0.15);\n",
              "      fill: #174EA6;\n",
              "    }\n",
              "\n",
              "    [theme=dark] .colab-df-convert {\n",
              "      background-color: #3B4455;\n",
              "      fill: #D2E3FC;\n",
              "    }\n",
              "\n",
              "    [theme=dark] .colab-df-convert:hover {\n",
              "      background-color: #434B5C;\n",
              "      box-shadow: 0px 1px 3px 1px rgba(0, 0, 0, 0.15);\n",
              "      filter: drop-shadow(0px 1px 2px rgba(0, 0, 0, 0.3));\n",
              "      fill: #FFFFFF;\n",
              "    }\n",
              "  </style>\n",
              "\n",
              "      <script>\n",
              "        const buttonEl =\n",
              "          document.querySelector('#df-10df915e-bbaf-4566-81c6-0124eac6e977 button.colab-df-convert');\n",
              "        buttonEl.style.display =\n",
              "          google.colab.kernel.accessAllowed ? 'block' : 'none';\n",
              "\n",
              "        async function convertToInteractive(key) {\n",
              "          const element = document.querySelector('#df-10df915e-bbaf-4566-81c6-0124eac6e977');\n",
              "          const dataTable =\n",
              "            await google.colab.kernel.invokeFunction('convertToInteractive',\n",
              "                                                     [key], {});\n",
              "          if (!dataTable) return;\n",
              "\n",
              "          const docLinkHtml = 'Like what you see? Visit the ' +\n",
              "            '<a target=\"_blank\" href=https://colab.research.google.com/notebooks/data_table.ipynb>data table notebook</a>'\n",
              "            + ' to learn more about interactive tables.';\n",
              "          element.innerHTML = '';\n",
              "          dataTable['output_type'] = 'display_data';\n",
              "          await google.colab.output.renderOutput(dataTable, element);\n",
              "          const docLink = document.createElement('div');\n",
              "          docLink.innerHTML = docLinkHtml;\n",
              "          element.appendChild(docLink);\n",
              "        }\n",
              "      </script>\n",
              "    </div>\n",
              "  </div>\n",
              "  "
            ],
            "text/plain": [
              "      v(mls)      d(m)         Q   Ds(m)\n",
              "0   0.400810  0.021699  0.002397  0.0000\n",
              "1   0.400810  0.021699  0.002397  0.0010\n",
              "2   0.400000  0.020000  0.002400  0.0020\n",
              "3   0.520000  0.030000  0.004700  0.0040\n",
              "4   0.650000  0.037000  0.007200  0.0075\n",
              "5   0.700000  0.038000  0.008000  0.0100\n",
              "6   0.780000  0.040000  0.009400  0.0150\n",
              "7   0.789772  0.041658  0.010648  0.0180\n",
              "8   0.813981  0.040448  0.011223  0.0200\n",
              "9   0.838162  0.039160  0.011986  0.0220\n",
              "10  0.862411  0.037775  0.012783  0.0240\n",
              "11  0.886703  0.036383  0.013431  0.0260\n",
              "12  0.911064  0.035005  0.014115  0.0280\n",
              "13  0.935393  0.033591  0.014849  0.0300\n",
              "14  0.959647  0.032105  0.015623  0.0320\n",
              "15  0.983869  0.030619  0.016436  0.0340\n",
              "16  1.007985  0.029133  0.017256  0.0360\n",
              "17  1.032078  0.027647  0.018085  0.0380\n",
              "18  1.056243  0.026158  0.018920  0.0400\n",
              "19  1.080457  0.024655  0.019744  0.0420\n",
              "20  1.104677  0.023142  0.020550  0.0440\n",
              "21  1.128875  0.021620  0.021350  0.0460\n",
              "22  1.153051  0.020098  0.022148  0.0480\n",
              "23  1.177223  0.018575  0.022946  0.0500\n",
              "24  1.201399  0.017053  0.023738  0.0520\n",
              "25  1.225579  0.015531  0.024506  0.0540\n",
              "26  1.249761  0.014008  0.025264  0.0560\n",
              "27  1.273941  0.012486  0.026023  0.0580\n",
              "28  1.298090  0.010958  0.026790  0.0600\n",
              "29  1.322173  0.009423  0.027565  0.0620\n",
              "30  1.346246  0.007887  0.028338  0.0640\n",
              "31  1.370322  0.006352  0.029111  0.0660\n",
              "32  1.394398  0.004816  0.029885  0.0680\n",
              "33  1.418475  0.003283  0.030659  0.0700\n",
              "34  1.442551  0.001752  0.031433  0.0720\n",
              "35  1.466627  0.000222  0.032207  0.0740\n",
              "36  1.490704 -0.001309  0.032981  0.0760\n",
              "37  1.514776 -0.002840  0.033755  0.0780\n",
              "38  1.538845 -0.004371  0.034529  0.0800\n",
              "39  1.562907 -0.005901  0.035303  0.0820\n",
              "40  1.586968 -0.007432  0.036077  0.0840\n",
              "41  1.611027 -0.008963  0.036851  0.0860\n",
              "42  1.635084 -0.010494  0.037625  0.0880"
            ]
          },
          "metadata": {},
          "execution_count": 47
        }
      ],
      "metadata": {
        "colab": {
          "base_uri": "https://localhost:8080/",
          "height": 1000
        },
        "id": "BxdkviTZL6qI",
        "outputId": "803f344b-14a2-456e-93cc-07be6b5dab25"
      }
    },
    {
      "cell_type": "code",
      "execution_count": null,
      "source": [
        "Muddy"
      ],
      "outputs": [
        {
          "output_type": "execute_result",
          "data": {
            "text/html": [
              "\n",
              "  <div id=\"df-edb7c599-be52-45ed-b620-7c954bf15c91\">\n",
              "    <div class=\"colab-df-container\">\n",
              "      <div>\n",
              "<style scoped>\n",
              "    .dataframe tbody tr th:only-of-type {\n",
              "        vertical-align: middle;\n",
              "    }\n",
              "\n",
              "    .dataframe tbody tr th {\n",
              "        vertical-align: top;\n",
              "    }\n",
              "\n",
              "    .dataframe thead th {\n",
              "        text-align: right;\n",
              "    }\n",
              "</style>\n",
              "<table border=\"1\" class=\"dataframe\">\n",
              "  <thead>\n",
              "    <tr style=\"text-align: right;\">\n",
              "      <th></th>\n",
              "      <th>v(mls)</th>\n",
              "      <th>d(m)</th>\n",
              "      <th>Q</th>\n",
              "      <th>cw</th>\n",
              "      <th>Ds(m)</th>\n",
              "    </tr>\n",
              "  </thead>\n",
              "  <tbody>\n",
              "    <tr>\n",
              "      <th>0</th>\n",
              "      <td>0.317230</td>\n",
              "      <td>0.025001</td>\n",
              "      <td>0.002343</td>\n",
              "      <td>29.913177</td>\n",
              "      <td>0.0000</td>\n",
              "    </tr>\n",
              "    <tr>\n",
              "      <th>1</th>\n",
              "      <td>0.317230</td>\n",
              "      <td>0.025001</td>\n",
              "      <td>0.002343</td>\n",
              "      <td>32.035675</td>\n",
              "      <td>0.0010</td>\n",
              "    </tr>\n",
              "    <tr>\n",
              "      <th>2</th>\n",
              "      <td>0.320000</td>\n",
              "      <td>0.025000</td>\n",
              "      <td>0.002400</td>\n",
              "      <td>33.300000</td>\n",
              "      <td>0.0020</td>\n",
              "    </tr>\n",
              "    <tr>\n",
              "      <th>3</th>\n",
              "      <td>0.440000</td>\n",
              "      <td>0.035000</td>\n",
              "      <td>0.004620</td>\n",
              "      <td>35.000000</td>\n",
              "      <td>0.0040</td>\n",
              "    </tr>\n",
              "    <tr>\n",
              "      <th>4</th>\n",
              "      <td>0.570000</td>\n",
              "      <td>0.040000</td>\n",
              "      <td>0.006800</td>\n",
              "      <td>40.000000</td>\n",
              "      <td>0.0075</td>\n",
              "    </tr>\n",
              "    <tr>\n",
              "      <th>5</th>\n",
              "      <td>0.630000</td>\n",
              "      <td>0.040000</td>\n",
              "      <td>0.007600</td>\n",
              "      <td>50.000000</td>\n",
              "      <td>0.0100</td>\n",
              "    </tr>\n",
              "    <tr>\n",
              "      <th>6</th>\n",
              "      <td>0.710000</td>\n",
              "      <td>0.042000</td>\n",
              "      <td>0.009000</td>\n",
              "      <td>60.000000</td>\n",
              "      <td>0.0150</td>\n",
              "    </tr>\n",
              "    <tr>\n",
              "      <th>7</th>\n",
              "      <td>0.750604</td>\n",
              "      <td>0.041742</td>\n",
              "      <td>0.009027</td>\n",
              "      <td>68.610916</td>\n",
              "      <td>0.0180</td>\n",
              "    </tr>\n",
              "    <tr>\n",
              "      <th>8</th>\n",
              "      <td>0.788989</td>\n",
              "      <td>0.041944</td>\n",
              "      <td>0.009428</td>\n",
              "      <td>72.923584</td>\n",
              "      <td>0.0200</td>\n",
              "    </tr>\n",
              "    <tr>\n",
              "      <th>9</th>\n",
              "      <td>0.827332</td>\n",
              "      <td>0.041229</td>\n",
              "      <td>0.009782</td>\n",
              "      <td>77.236732</td>\n",
              "      <td>0.0220</td>\n",
              "    </tr>\n",
              "    <tr>\n",
              "      <th>10</th>\n",
              "      <td>0.865691</td>\n",
              "      <td>0.040019</td>\n",
              "      <td>0.010018</td>\n",
              "      <td>81.552048</td>\n",
              "      <td>0.0240</td>\n",
              "    </tr>\n",
              "    <tr>\n",
              "      <th>11</th>\n",
              "      <td>0.904065</td>\n",
              "      <td>0.038419</td>\n",
              "      <td>0.010209</td>\n",
              "      <td>85.868454</td>\n",
              "      <td>0.0260</td>\n",
              "    </tr>\n",
              "    <tr>\n",
              "      <th>12</th>\n",
              "      <td>0.942459</td>\n",
              "      <td>0.036837</td>\n",
              "      <td>0.010434</td>\n",
              "      <td>90.185501</td>\n",
              "      <td>0.0280</td>\n",
              "    </tr>\n",
              "  </tbody>\n",
              "</table>\n",
              "</div>\n",
              "      <button class=\"colab-df-convert\" onclick=\"convertToInteractive('df-edb7c599-be52-45ed-b620-7c954bf15c91')\"\n",
              "              title=\"Convert this dataframe to an interactive table.\"\n",
              "              style=\"display:none;\">\n",
              "        \n",
              "  <svg xmlns=\"http://www.w3.org/2000/svg\" height=\"24px\"viewBox=\"0 0 24 24\"\n",
              "       width=\"24px\">\n",
              "    <path d=\"M0 0h24v24H0V0z\" fill=\"none\"/>\n",
              "    <path d=\"M18.56 5.44l.94 2.06.94-2.06 2.06-.94-2.06-.94-.94-2.06-.94 2.06-2.06.94zm-11 1L8.5 8.5l.94-2.06 2.06-.94-2.06-.94L8.5 2.5l-.94 2.06-2.06.94zm10 10l.94 2.06.94-2.06 2.06-.94-2.06-.94-.94-2.06-.94 2.06-2.06.94z\"/><path d=\"M17.41 7.96l-1.37-1.37c-.4-.4-.92-.59-1.43-.59-.52 0-1.04.2-1.43.59L10.3 9.45l-7.72 7.72c-.78.78-.78 2.05 0 2.83L4 21.41c.39.39.9.59 1.41.59.51 0 1.02-.2 1.41-.59l7.78-7.78 2.81-2.81c.8-.78.8-2.07 0-2.86zM5.41 20L4 18.59l7.72-7.72 1.47 1.35L5.41 20z\"/>\n",
              "  </svg>\n",
              "      </button>\n",
              "      \n",
              "  <style>\n",
              "    .colab-df-container {\n",
              "      display:flex;\n",
              "      flex-wrap:wrap;\n",
              "      gap: 12px;\n",
              "    }\n",
              "\n",
              "    .colab-df-convert {\n",
              "      background-color: #E8F0FE;\n",
              "      border: none;\n",
              "      border-radius: 50%;\n",
              "      cursor: pointer;\n",
              "      display: none;\n",
              "      fill: #1967D2;\n",
              "      height: 32px;\n",
              "      padding: 0 0 0 0;\n",
              "      width: 32px;\n",
              "    }\n",
              "\n",
              "    .colab-df-convert:hover {\n",
              "      background-color: #E2EBFA;\n",
              "      box-shadow: 0px 1px 2px rgba(60, 64, 67, 0.3), 0px 1px 3px 1px rgba(60, 64, 67, 0.15);\n",
              "      fill: #174EA6;\n",
              "    }\n",
              "\n",
              "    [theme=dark] .colab-df-convert {\n",
              "      background-color: #3B4455;\n",
              "      fill: #D2E3FC;\n",
              "    }\n",
              "\n",
              "    [theme=dark] .colab-df-convert:hover {\n",
              "      background-color: #434B5C;\n",
              "      box-shadow: 0px 1px 3px 1px rgba(0, 0, 0, 0.15);\n",
              "      filter: drop-shadow(0px 1px 2px rgba(0, 0, 0, 0.3));\n",
              "      fill: #FFFFFF;\n",
              "    }\n",
              "  </style>\n",
              "\n",
              "      <script>\n",
              "        const buttonEl =\n",
              "          document.querySelector('#df-edb7c599-be52-45ed-b620-7c954bf15c91 button.colab-df-convert');\n",
              "        buttonEl.style.display =\n",
              "          google.colab.kernel.accessAllowed ? 'block' : 'none';\n",
              "\n",
              "        async function convertToInteractive(key) {\n",
              "          const element = document.querySelector('#df-edb7c599-be52-45ed-b620-7c954bf15c91');\n",
              "          const dataTable =\n",
              "            await google.colab.kernel.invokeFunction('convertToInteractive',\n",
              "                                                     [key], {});\n",
              "          if (!dataTable) return;\n",
              "\n",
              "          const docLinkHtml = 'Like what you see? Visit the ' +\n",
              "            '<a target=\"_blank\" href=https://colab.research.google.com/notebooks/data_table.ipynb>data table notebook</a>'\n",
              "            + ' to learn more about interactive tables.';\n",
              "          element.innerHTML = '';\n",
              "          dataTable['output_type'] = 'display_data';\n",
              "          await google.colab.output.renderOutput(dataTable, element);\n",
              "          const docLink = document.createElement('div');\n",
              "          docLink.innerHTML = docLinkHtml;\n",
              "          element.appendChild(docLink);\n",
              "        }\n",
              "      </script>\n",
              "    </div>\n",
              "  </div>\n",
              "  "
            ],
            "text/plain": [
              "      v(mls)      d(m)         Q         cw   Ds(m)\n",
              "0   0.317230  0.025001  0.002343  29.913177  0.0000\n",
              "1   0.317230  0.025001  0.002343  32.035675  0.0010\n",
              "2   0.320000  0.025000  0.002400  33.300000  0.0020\n",
              "3   0.440000  0.035000  0.004620  35.000000  0.0040\n",
              "4   0.570000  0.040000  0.006800  40.000000  0.0075\n",
              "5   0.630000  0.040000  0.007600  50.000000  0.0100\n",
              "6   0.710000  0.042000  0.009000  60.000000  0.0150\n",
              "7   0.750604  0.041742  0.009027  68.610916  0.0180\n",
              "8   0.788989  0.041944  0.009428  72.923584  0.0200\n",
              "9   0.827332  0.041229  0.009782  77.236732  0.0220\n",
              "10  0.865691  0.040019  0.010018  81.552048  0.0240\n",
              "11  0.904065  0.038419  0.010209  85.868454  0.0260\n",
              "12  0.942459  0.036837  0.010434  90.185501  0.0280"
            ]
          },
          "metadata": {},
          "execution_count": 36
        }
      ],
      "metadata": {
        "colab": {
          "base_uri": "https://localhost:8080/",
          "height": 457
        },
        "id": "yVqWvxJ-L6qI",
        "outputId": "e3c34678-0db9-4e0b-da58-12c639f19051"
      }
    }
  ],
  "metadata": {
    "interpreter": {
      "hash": "31f2aee4e71d21fbe5cf8b01ff0e069b9275f58929596ceb00d14d90e3e16cd6"
    },
    "kernelspec": {
      "name": "python3",
      "display_name": "Python 3.9.5 64-bit"
    },
    "language_info": {
      "codemirror_mode": {
        "name": "ipython",
        "version": 3
      },
      "file_extension": ".py",
      "mimetype": "text/x-python",
      "name": "python",
      "nbconvert_exporter": "python",
      "pygments_lexer": "ipython3",
      "version": "3.9.5"
    },
    "colab": {
      "provenance": []
    }
  },
  "nbformat": 4,
  "nbformat_minor": 0
}